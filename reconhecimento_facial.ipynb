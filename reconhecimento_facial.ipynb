{
 "cells": [
  {
   "cell_type": "code",
   "execution_count": 1,
   "id": "8a752880",
   "metadata": {},
   "outputs": [
    {
     "name": "stdout",
     "output_type": "stream",
     "text": [
      "Defaulting to user installation because normal site-packages is not writeable\n",
      "Requirement already satisfied: mediapipe in c:\\users\\gabriel\\appdata\\roaming\\python\\python39\\site-packages (0.9.1.0)\n",
      "Requirement already satisfied: protobuf<4,>=3.11 in c:\\users\\gabriel\\appdata\\roaming\\python\\python39\\site-packages (from mediapipe) (3.20.3)\n",
      "Requirement already satisfied: attrs>=19.1.0 in c:\\programdata\\anaconda3\\lib\\site-packages (from mediapipe) (21.4.0)\n",
      "Requirement already satisfied: absl-py in c:\\users\\gabriel\\appdata\\roaming\\python\\python39\\site-packages (from mediapipe) (1.4.0)\n",
      "Requirement already satisfied: matplotlib in c:\\programdata\\anaconda3\\lib\\site-packages (from mediapipe) (3.5.2)\n",
      "Requirement already satisfied: opencv-contrib-python in c:\\users\\gabriel\\appdata\\roaming\\python\\python39\\site-packages (from mediapipe) (4.7.0.72)\n",
      "Requirement already satisfied: flatbuffers>=2.0 in c:\\users\\gabriel\\appdata\\roaming\\python\\python39\\site-packages (from mediapipe) (23.3.3)\n",
      "Requirement already satisfied: numpy in c:\\programdata\\anaconda3\\lib\\site-packages (from mediapipe) (1.21.5)\n",
      "Requirement already satisfied: cycler>=0.10 in c:\\programdata\\anaconda3\\lib\\site-packages (from matplotlib->mediapipe) (0.11.0)\n",
      "Requirement already satisfied: python-dateutil>=2.7 in c:\\programdata\\anaconda3\\lib\\site-packages (from matplotlib->mediapipe) (2.8.2)\n",
      "Requirement already satisfied: kiwisolver>=1.0.1 in c:\\programdata\\anaconda3\\lib\\site-packages (from matplotlib->mediapipe) (1.4.2)\n",
      "Requirement already satisfied: fonttools>=4.22.0 in c:\\programdata\\anaconda3\\lib\\site-packages (from matplotlib->mediapipe) (4.25.0)\n",
      "Requirement already satisfied: pillow>=6.2.0 in c:\\programdata\\anaconda3\\lib\\site-packages (from matplotlib->mediapipe) (9.2.0)\n",
      "Requirement already satisfied: pyparsing>=2.2.1 in c:\\programdata\\anaconda3\\lib\\site-packages (from matplotlib->mediapipe) (3.0.9)\n",
      "Requirement already satisfied: packaging>=20.0 in c:\\programdata\\anaconda3\\lib\\site-packages (from matplotlib->mediapipe) (21.3)\n",
      "Requirement already satisfied: six>=1.5 in c:\\programdata\\anaconda3\\lib\\site-packages (from python-dateutil>=2.7->matplotlib->mediapipe) (1.16.0)\n"
     ]
    }
   ],
   "source": [
    "!pip install mediapipe"
   ]
  },
  {
   "cell_type": "code",
   "execution_count": 2,
   "id": "15e102ef",
   "metadata": {},
   "outputs": [],
   "source": [
    "import cv2\n",
    "import mediapipe as mp"
   ]
  },
  {
   "cell_type": "code",
   "execution_count": 3,
   "id": "ca478ae0",
   "metadata": {},
   "outputs": [],
   "source": [
    "#Inicializando o OpenCV\n",
    "\n",
    "webcam = cv2.VideoCapture(0)"
   ]
  },
  {
   "cell_type": "code",
   "execution_count": 4,
   "id": "f86f127f",
   "metadata": {},
   "outputs": [],
   "source": [
    "#Inicializando o mediapipe\n",
    "\n",
    "reconhecimento_rosto = mp.solutions.face_detection\n",
    "\n",
    "#Criando o reconhecedor de rostos\n",
    "\n",
    "reconhecedor = reconhecimento_rosto.FaceDetection()\n",
    "\n",
    "#Criando o desenho\n",
    "\n",
    "desenho = mp.solutions.drawing_utils"
   ]
  },
  {
   "cell_type": "code",
   "execution_count": 5,
   "id": "aa74ac37",
   "metadata": {},
   "outputs": [],
   "source": [
    "while True:\n",
    "    #Ler as informações da Webcam\n",
    "    verificador, frame = webcam.read()\n",
    "    \n",
    "    if not verificador:\n",
    "        break\n",
    "        \n",
    "    #reconhecer os rostos que tem ali dentro\n",
    "    lista_rostos = reconhecedor.process(frame)\n",
    "    \n",
    "    if lista_rostos.detections:\n",
    "        for rosto in lista_rostos.detections:\n",
    "            desenho.draw_detection(frame, rosto)\n",
    "            \n",
    "    cv2.imshow(\"GD\", frame)\n",
    "            \n",
    "    #Quando apertar ESC o loop será interrompido\n",
    "    \n",
    "    if cv2.waitKey(5) == 27:\n",
    "        break\n",
    "    \n",
    "webcam.release()\n",
    "cv2.destroyAllWindows()"
   ]
  }
 ],
 "metadata": {
  "kernelspec": {
   "display_name": "Python 3 (ipykernel)",
   "language": "python",
   "name": "python3"
  },
  "language_info": {
   "codemirror_mode": {
    "name": "ipython",
    "version": 3
   },
   "file_extension": ".py",
   "mimetype": "text/x-python",
   "name": "python",
   "nbconvert_exporter": "python",
   "pygments_lexer": "ipython3",
   "version": "3.9.13"
  }
 },
 "nbformat": 4,
 "nbformat_minor": 5
}
